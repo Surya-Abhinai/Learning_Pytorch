{
  "nbformat": 4,
  "nbformat_minor": 0,
  "metadata": {
    "colab": {
      "provenance": [],
      "gpuType": "T4"
    },
    "kernelspec": {
      "name": "python3",
      "display_name": "Python 3"
    },
    "language_info": {
      "name": "python"
    }
  },
  "cells": [
    {
      "cell_type": "code",
      "execution_count": 1,
      "metadata": {
        "colab": {
          "base_uri": "https://localhost:8080/"
        },
        "id": "DqS6FG_t0Fkf",
        "outputId": "c41c2433-a1b5-486c-b5d7-9c1ff1fdf912"
      },
      "outputs": [
        {
          "output_type": "stream",
          "name": "stdout",
          "text": [
            "2.0.1+cu118\n"
          ]
        }
      ],
      "source": [
        "import torch\n",
        "import pandas as pd\n",
        "import numpy as np\n",
        "print(torch.__version__)"
      ]
    },
    {
      "cell_type": "markdown",
      "source": [
        "##Introduction"
      ],
      "metadata": {
        "id": "GM2QcPrz2u0k"
      }
    },
    {
      "cell_type": "code",
      "source": [
        "scalar = torch.tensor(7)\n",
        "print(scalar)\n",
        "scalar.ndim"
      ],
      "metadata": {
        "colab": {
          "base_uri": "https://localhost:8080/"
        },
        "id": "sp_owgGk2UuC",
        "outputId": "a25558fc-c1a5-4e4f-d6de-0e2a347d4d7b"
      },
      "execution_count": 4,
      "outputs": [
        {
          "output_type": "stream",
          "name": "stdout",
          "text": [
            "tensor(7)\n"
          ]
        },
        {
          "output_type": "execute_result",
          "data": {
            "text/plain": [
              "0"
            ]
          },
          "metadata": {},
          "execution_count": 4
        }
      ]
    },
    {
      "cell_type": "code",
      "source": [
        "vector = torch.tensor([7,7])\n",
        "print(f\"vector dim : {vector.ndim}\")\n",
        "print(f\"vector shape : {vector.shape}\")"
      ],
      "metadata": {
        "colab": {
          "base_uri": "https://localhost:8080/"
        },
        "id": "WThF-bGo3Hy8",
        "outputId": "eb9a5ef4-3cca-48b3-9b24-b7e166adf068"
      },
      "execution_count": 6,
      "outputs": [
        {
          "output_type": "stream",
          "name": "stdout",
          "text": [
            "vector dim : 1\n",
            "vector shape : torch.Size([2])\n"
          ]
        }
      ]
    },
    {
      "cell_type": "code",
      "source": [
        "Matrix = torch.tensor([[1,2,3],[3,4,5]])\n",
        "print(f\"matrix dim = {Matrix.ndim}\")\n",
        "print(f\"matrix shape = {Matrix.shape}\")"
      ],
      "metadata": {
        "colab": {
          "base_uri": "https://localhost:8080/"
        },
        "id": "nRyi_uoY3hy_",
        "outputId": "4f85b2be-35cf-4f68-c80a-314187167ed7"
      },
      "execution_count": 12,
      "outputs": [
        {
          "output_type": "stream",
          "name": "stdout",
          "text": [
            "matrix dim = 2\n",
            "matrix shape = torch.Size([2, 3])\n"
          ]
        }
      ]
    },
    {
      "cell_type": "code",
      "source": [
        "Matrix[0]"
      ],
      "metadata": {
        "colab": {
          "base_uri": "https://localhost:8080/"
        },
        "id": "8DtUUTxO39MX",
        "outputId": "bac8b9e7-e88a-41fa-f66f-884f0597f73f"
      },
      "execution_count": 13,
      "outputs": [
        {
          "output_type": "execute_result",
          "data": {
            "text/plain": [
              "tensor([1, 2, 3])"
            ]
          },
          "metadata": {},
          "execution_count": 13
        }
      ]
    },
    {
      "cell_type": "code",
      "source": [
        "#Tensor\n",
        "\n",
        "tensor = torch.tensor([[[1,2,3],[4,5,6],[7,8,9]]])\n",
        "tensor"
      ],
      "metadata": {
        "colab": {
          "base_uri": "https://localhost:8080/"
        },
        "id": "0f7Ii1WO4KKt",
        "outputId": "585c5e05-a9d5-4895-f59e-6331d26f24d2"
      },
      "execution_count": 14,
      "outputs": [
        {
          "output_type": "execute_result",
          "data": {
            "text/plain": [
              "tensor([[[1, 2, 3],\n",
              "         [4, 5, 6],\n",
              "         [7, 8, 9]]])"
            ]
          },
          "metadata": {},
          "execution_count": 14
        }
      ]
    },
    {
      "cell_type": "code",
      "source": [
        "print(tensor.ndim)\n",
        "print(tensor.shape)"
      ],
      "metadata": {
        "colab": {
          "base_uri": "https://localhost:8080/"
        },
        "id": "Xq-DUE034xuO",
        "outputId": "f25de9a7-1e53-4a1a-bcea-e67ea55a8f90"
      },
      "execution_count": 15,
      "outputs": [
        {
          "output_type": "stream",
          "name": "stdout",
          "text": [
            "3\n",
            "torch.Size([1, 3, 3])\n"
          ]
        }
      ]
    },
    {
      "cell_type": "code",
      "source": [
        "tensor[0][1][2]\n",
        "#zero is first 3 dimenesional matrix\n",
        "#next is which row it is in\n",
        "# next is which column it is in"
      ],
      "metadata": {
        "colab": {
          "base_uri": "https://localhost:8080/"
        },
        "id": "I-jiqZQZ46hX",
        "outputId": "9f1377c3-4ff1-4c1e-ba52-c9d37a64951b"
      },
      "execution_count": 20,
      "outputs": [
        {
          "output_type": "execute_result",
          "data": {
            "text/plain": [
              "tensor(6)"
            ]
          },
          "metadata": {},
          "execution_count": 20
        }
      ]
    },
    {
      "cell_type": "markdown",
      "source": [
        "##Random tensors\n",
        "\n",
        "Random tensors are important because the way many neural networks learn is that they can start with tensors full of random numbers and then adjust those random numbers to better represent the data\n",
        "\n",
        "Docs :- https://pytorch.org/docs/stable/generated/torch.rand.html"
      ],
      "metadata": {
        "id": "pik3UL1Z6Xhi"
      }
    },
    {
      "cell_type": "code",
      "source": [
        "random_tensor = torch.rand(3,4)\n",
        "random_tensor"
      ],
      "metadata": {
        "colab": {
          "base_uri": "https://localhost:8080/"
        },
        "id": "E359Ps-H6dsS",
        "outputId": "dd3f5dcf-2538-4956-9a6f-9a1f7a625c6a"
      },
      "execution_count": 22,
      "outputs": [
        {
          "output_type": "execute_result",
          "data": {
            "text/plain": [
              "tensor([[0.6180, 0.0352, 0.7680, 0.9282],\n",
              "        [0.4580, 0.3264, 0.9853, 0.4554],\n",
              "        [0.8140, 0.0107, 0.7640, 0.5412]])"
            ]
          },
          "metadata": {},
          "execution_count": 22
        }
      ]
    },
    {
      "cell_type": "code",
      "source": [
        "# Create a random tensor with similar shape to an mage tensor\n",
        "random_image_tensor = torch.rand(size = (224,224,3)) # height , width , colour channels(R,Y,B)\n",
        "random_image_tensor.shape"
      ],
      "metadata": {
        "colab": {
          "base_uri": "https://localhost:8080/"
        },
        "id": "E3-rPn517xGz",
        "outputId": "f68904e5-15cb-4e5f-cbe3-d6cb66ec32fd"
      },
      "execution_count": 24,
      "outputs": [
        {
          "output_type": "execute_result",
          "data": {
            "text/plain": [
              "torch.Size([224, 224, 3])"
            ]
          },
          "metadata": {},
          "execution_count": 24
        }
      ]
    },
    {
      "cell_type": "markdown",
      "source": [
        "##Zeros and ones"
      ],
      "metadata": {
        "id": "x3grrJMD9Q6t"
      }
    },
    {
      "cell_type": "code",
      "source": [
        "zeros = torch.zeros(size = (3,3))\n",
        "zeros"
      ],
      "metadata": {
        "colab": {
          "base_uri": "https://localhost:8080/"
        },
        "id": "bplKpTLR9PFe",
        "outputId": "d6becbb1-28ad-4e74-e963-6eaf9e165cdf"
      },
      "execution_count": 25,
      "outputs": [
        {
          "output_type": "execute_result",
          "data": {
            "text/plain": [
              "tensor([[0., 0., 0.],\n",
              "        [0., 0., 0.],\n",
              "        [0., 0., 0.]])"
            ]
          },
          "metadata": {},
          "execution_count": 25
        }
      ]
    },
    {
      "cell_type": "code",
      "source": [
        "ones = torch.ones(size = (3,3))\n",
        "ones"
      ],
      "metadata": {
        "colab": {
          "base_uri": "https://localhost:8080/"
        },
        "id": "3qNXlpfy9l0i",
        "outputId": "353f99cc-e7fe-4315-af98-d8af8875df13"
      },
      "execution_count": 26,
      "outputs": [
        {
          "output_type": "execute_result",
          "data": {
            "text/plain": [
              "tensor([[1., 1., 1.],\n",
              "        [1., 1., 1.],\n",
              "        [1., 1., 1.]])"
            ]
          },
          "metadata": {},
          "execution_count": 26
        }
      ]
    },
    {
      "cell_type": "code",
      "source": [
        "ones.dtype"
      ],
      "metadata": {
        "colab": {
          "base_uri": "https://localhost:8080/"
        },
        "id": "BC-_JiLT9qgb",
        "outputId": "f82cd819-745c-40c9-fd35-833e8ecf9702"
      },
      "execution_count": 27,
      "outputs": [
        {
          "output_type": "execute_result",
          "data": {
            "text/plain": [
              "torch.float32"
            ]
          },
          "metadata": {},
          "execution_count": 27
        }
      ]
    },
    {
      "cell_type": "markdown",
      "source": [
        "##Creating a range of tensors"
      ],
      "metadata": {
        "id": "Z5LPe9n094pV"
      }
    },
    {
      "cell_type": "code",
      "source": [
        "torch.range(0,10)"
      ],
      "metadata": {
        "colab": {
          "base_uri": "https://localhost:8080/"
        },
        "id": "7H6RajEq94B2",
        "outputId": "477fcd0a-e019-487f-ccaa-b9c3b5e24182"
      },
      "execution_count": 28,
      "outputs": [
        {
          "output_type": "stream",
          "name": "stderr",
          "text": [
            "<ipython-input-28-dfdec9b83f7d>:1: UserWarning: torch.range is deprecated and will be removed in a future release because its behavior is inconsistent with Python's range builtin. Instead, use torch.arange, which produces values in [start, end).\n",
            "  torch.range(0,10)\n"
          ]
        },
        {
          "output_type": "execute_result",
          "data": {
            "text/plain": [
              "tensor([ 0.,  1.,  2.,  3.,  4.,  5.,  6.,  7.,  8.,  9., 10.])"
            ]
          },
          "metadata": {},
          "execution_count": 28
        }
      ]
    },
    {
      "cell_type": "code",
      "source": [
        "one_to_ten = torch.arange(1,10)"
      ],
      "metadata": {
        "id": "wieXVCWh9rpB"
      },
      "execution_count": 30,
      "outputs": []
    },
    {
      "cell_type": "code",
      "source": [
        "ten_zeros = torch.zeros_like(input=one_to_ten)\n",
        "ten_zeros"
      ],
      "metadata": {
        "colab": {
          "base_uri": "https://localhost:8080/"
        },
        "id": "Lcdk49O3-IeV",
        "outputId": "3aaa3558-fe13-408d-e41d-16ce50b1267c"
      },
      "execution_count": 31,
      "outputs": [
        {
          "output_type": "execute_result",
          "data": {
            "text/plain": [
              "tensor([0, 0, 0, 0, 0, 0, 0, 0, 0])"
            ]
          },
          "metadata": {},
          "execution_count": 31
        }
      ]
    },
    {
      "cell_type": "markdown",
      "source": [
        "##Tensor data types\n",
        "\n",
        "**Note** Tensor datatypes is the one of the 3 big issues in the pytorch\n",
        "\n",
        "1. Tensors not right datatype\n",
        "2. Tensors not in right shape\n",
        "3. Tensors not in right device\n",
        "\n",
        "docs - https://pytorch.org/docs/stable/tensors.html"
      ],
      "metadata": {
        "id": "ruIDhMdm-_X6"
      }
    },
    {
      "cell_type": "code",
      "source": [
        "float_16_tensor = torch.tensor([3.0,6.0,9.0] , dtype = torch.float16, device = None , requires_grad = False)\n",
        "float_16_tensor"
      ],
      "metadata": {
        "colab": {
          "base_uri": "https://localhost:8080/"
        },
        "id": "drYrQXJc-nQg",
        "outputId": "2789211a-b85c-4d41-b1ff-dc83c4172c3a"
      },
      "execution_count": 36,
      "outputs": [
        {
          "output_type": "execute_result",
          "data": {
            "text/plain": [
              "tensor([3., 6., 9.], dtype=torch.float16)"
            ]
          },
          "metadata": {},
          "execution_count": 36
        }
      ]
    },
    {
      "cell_type": "markdown",
      "source": [
        "##Manipulating Tensors\n",
        "\n",
        "Tensor operations include:\n",
        "\n",
        "1. Addition\n",
        "2. Subraction\n",
        "3. Multiplication(element - wise)\n",
        "4. Divsion\n",
        "5. Matrix multiplication"
      ],
      "metadata": {
        "id": "ElJVGGq3DHAo"
      }
    },
    {
      "cell_type": "code",
      "source": [
        "tensor = torch.tensor([1,2,3])"
      ],
      "metadata": {
        "id": "djzS77azDGDA"
      },
      "execution_count": 37,
      "outputs": []
    },
    {
      "cell_type": "code",
      "source": [
        "print(tensor + 10)\n",
        "print(tensor - 1)\n",
        "print( tensor * 2)\n",
        "print(tensor / 2)"
      ],
      "metadata": {
        "colab": {
          "base_uri": "https://localhost:8080/"
        },
        "id": "O85SJZ58_gKm",
        "outputId": "6f2c413b-e23e-4432-b84a-de08ae1f7a11"
      },
      "execution_count": 38,
      "outputs": [
        {
          "output_type": "stream",
          "name": "stdout",
          "text": [
            "tensor([11, 12, 13])\n",
            "tensor([0, 1, 2])\n",
            "tensor([2, 4, 6])\n",
            "tensor([0.5000, 1.0000, 1.5000])\n"
          ]
        }
      ]
    },
    {
      "cell_type": "code",
      "source": [
        "#inbuilt fns\n",
        "torch.mul(tensor,2)"
      ],
      "metadata": {
        "colab": {
          "base_uri": "https://localhost:8080/"
        },
        "id": "_OcY4YDWD4Wg",
        "outputId": "2a9c962e-ad0a-45c8-e0f1-3449de71824a"
      },
      "execution_count": 39,
      "outputs": [
        {
          "output_type": "execute_result",
          "data": {
            "text/plain": [
              "tensor([2, 4, 6])"
            ]
          },
          "metadata": {},
          "execution_count": 39
        }
      ]
    },
    {
      "cell_type": "code",
      "source": [
        "torch.matmul(tensor,tensor)\n",
        "#dot product"
      ],
      "metadata": {
        "colab": {
          "base_uri": "https://localhost:8080/"
        },
        "id": "UyyQEj-mET6F",
        "outputId": "2b655629-5194-4907-e40a-7a42f3793458"
      },
      "execution_count": 40,
      "outputs": [
        {
          "output_type": "execute_result",
          "data": {
            "text/plain": [
              "tensor(14)"
            ]
          },
          "metadata": {},
          "execution_count": 40
        }
      ]
    },
    {
      "cell_type": "code",
      "source": [
        "%%time\n",
        "value = 0\n",
        "for i in range(len(tensor)) :\n",
        "  value += tensor[i]*tensor[i]\n",
        "print(value)"
      ],
      "metadata": {
        "colab": {
          "base_uri": "https://localhost:8080/"
        },
        "id": "W3zuXGeRFpD0",
        "outputId": "1c2de995-7548-4ecf-82bc-55c97dee2e77"
      },
      "execution_count": 41,
      "outputs": [
        {
          "output_type": "stream",
          "name": "stdout",
          "text": [
            "tensor(14)\n",
            "CPU times: user 1.63 ms, sys: 1.02 ms, total: 2.64 ms\n",
            "Wall time: 2.46 ms\n"
          ]
        }
      ]
    },
    {
      "cell_type": "code",
      "source": [
        "%%time\n",
        "torch.matmul(tensor,tensor)"
      ],
      "metadata": {
        "colab": {
          "base_uri": "https://localhost:8080/"
        },
        "id": "MMBPtC7BGR-v",
        "outputId": "25fc5166-38fc-4bf6-ca0a-53e6821c8b00"
      },
      "execution_count": 42,
      "outputs": [
        {
          "output_type": "stream",
          "name": "stdout",
          "text": [
            "CPU times: user 1.21 ms, sys: 10 µs, total: 1.22 ms\n",
            "Wall time: 1.15 ms\n"
          ]
        },
        {
          "output_type": "execute_result",
          "data": {
            "text/plain": [
              "tensor(14)"
            ]
          },
          "metadata": {},
          "execution_count": 42
        }
      ]
    },
    {
      "cell_type": "code",
      "source": [
        "tensor_a = torch.tensor([[1,2],[3,4]])\n",
        "tensor_b = tensor_a.T\n",
        "tensor_b"
      ],
      "metadata": {
        "colab": {
          "base_uri": "https://localhost:8080/"
        },
        "id": "K72_oD57Ga1W",
        "outputId": "5d217c09-0c79-42f1-f350-3a5e33b7ef4b"
      },
      "execution_count": 45,
      "outputs": [
        {
          "output_type": "execute_result",
          "data": {
            "text/plain": [
              "tensor([[1, 3],\n",
              "        [2, 4]])"
            ]
          },
          "metadata": {},
          "execution_count": 45
        }
      ]
    },
    {
      "cell_type": "markdown",
      "source": [
        "##Finding max , mean , sum"
      ],
      "metadata": {
        "id": "ZagBM7aWJUYz"
      }
    },
    {
      "cell_type": "code",
      "source": [
        "x = torch.arange(0,100,10)"
      ],
      "metadata": {
        "id": "EQmqjBPgHjsL"
      },
      "execution_count": 46,
      "outputs": []
    },
    {
      "cell_type": "code",
      "source": [
        "torch.max(x)"
      ],
      "metadata": {
        "colab": {
          "base_uri": "https://localhost:8080/"
        },
        "id": "BrXuK0_qJdyu",
        "outputId": "eba4fb59-f982-41ba-8813-050544ae7fcf"
      },
      "execution_count": 47,
      "outputs": [
        {
          "output_type": "execute_result",
          "data": {
            "text/plain": [
              "tensor(90)"
            ]
          },
          "metadata": {},
          "execution_count": 47
        }
      ]
    },
    {
      "cell_type": "code",
      "source": [
        "torch.mean(x.type(torch.float32))"
      ],
      "metadata": {
        "colab": {
          "base_uri": "https://localhost:8080/"
        },
        "id": "QnSn72PHJfs8",
        "outputId": "d3d48068-9fed-4d8c-a674-46143c86343c"
      },
      "execution_count": 51,
      "outputs": [
        {
          "output_type": "execute_result",
          "data": {
            "text/plain": [
              "tensor(45.)"
            ]
          },
          "metadata": {},
          "execution_count": 51
        }
      ]
    },
    {
      "cell_type": "code",
      "source": [
        "torch.sum(x)"
      ],
      "metadata": {
        "colab": {
          "base_uri": "https://localhost:8080/"
        },
        "id": "J2QbjzxLJhjB",
        "outputId": "2a1e667a-32d5-4faa-c101-324d2b2b451b"
      },
      "execution_count": 52,
      "outputs": [
        {
          "output_type": "execute_result",
          "data": {
            "text/plain": [
              "tensor(450)"
            ]
          },
          "metadata": {},
          "execution_count": 52
        }
      ]
    },
    {
      "cell_type": "code",
      "source": [
        "torch.argmin(x) , torch.argmax(x)"
      ],
      "metadata": {
        "colab": {
          "base_uri": "https://localhost:8080/"
        },
        "id": "1JlVUCkeKvbm",
        "outputId": "51f44d47-a567-4b4c-be5a-2eb68eba413c"
      },
      "execution_count": 53,
      "outputs": [
        {
          "output_type": "execute_result",
          "data": {
            "text/plain": [
              "(tensor(0), tensor(9))"
            ]
          },
          "metadata": {},
          "execution_count": 53
        }
      ]
    },
    {
      "cell_type": "markdown",
      "source": [
        "# Reshaping , stacking , squeezing and unsqueezing tensors\n",
        "\n",
        "* Reshaping - reshapes an input tensor to a defined shape\n",
        "* View - Return a view of an input tensor of certain shape but keep the same memory as the original tensor\n",
        "* Stacking - combining multiple tensors on top of each other (vstack) or side by side(hstack)\n",
        "* Squeeze - removes all '1' dimensions from a tensor\n",
        "* Unsqueeze - add a '1' dimension to a target tensor  \n",
        "* Permute - return a view of the input with dimensions permuted(swapped) in a certian way"
      ],
      "metadata": {
        "id": "W5SqLGmjLOZm"
      }
    },
    {
      "cell_type": "code",
      "source": [
        "y = torch.arange(1.,10.)"
      ],
      "metadata": {
        "id": "jmt0j9_OLNSn"
      },
      "execution_count": 54,
      "outputs": []
    },
    {
      "cell_type": "code",
      "source": [
        "y_reshaped = y.reshape(1,9)\n",
        "y_reshaped"
      ],
      "metadata": {
        "colab": {
          "base_uri": "https://localhost:8080/"
        },
        "id": "n3xZkHmmKzBH",
        "outputId": "7876275f-d4e8-454c-e1b1-b2325f3dfc7a"
      },
      "execution_count": 65,
      "outputs": [
        {
          "output_type": "execute_result",
          "data": {
            "text/plain": [
              "tensor([[-1.,  2.,  3., -1.,  5.,  6., -1.,  8.,  9.]])"
            ]
          },
          "metadata": {},
          "execution_count": 65
        }
      ]
    },
    {
      "cell_type": "code",
      "source": [
        "z = y.view(3,3)\n",
        "z"
      ],
      "metadata": {
        "colab": {
          "base_uri": "https://localhost:8080/"
        },
        "id": "zbA0P6JxMwpV",
        "outputId": "2d7786db-2ff6-4f22-d43b-11a87fb2d072"
      },
      "execution_count": 59,
      "outputs": [
        {
          "output_type": "execute_result",
          "data": {
            "text/plain": [
              "tensor([[1., 2., 3.],\n",
              "        [4., 5., 6.],\n",
              "        [7., 8., 9.]])"
            ]
          },
          "metadata": {},
          "execution_count": 59
        }
      ]
    },
    {
      "cell_type": "code",
      "source": [
        "# Changing z changes the y because they share the same memory lets see\n",
        "z[: , 0] = -1\n",
        "z,y"
      ],
      "metadata": {
        "colab": {
          "base_uri": "https://localhost:8080/"
        },
        "id": "YW2K3cB7NOp6",
        "outputId": "8a1faa00-e353-4bbf-a869-f724f18b970c"
      },
      "execution_count": 60,
      "outputs": [
        {
          "output_type": "execute_result",
          "data": {
            "text/plain": [
              "(tensor([[-1.,  2.,  3.],\n",
              "         [-1.,  5.,  6.],\n",
              "         [-1.,  8.,  9.]]),\n",
              " tensor([-1.,  2.,  3., -1.,  5.,  6., -1.,  8.,  9.]))"
            ]
          },
          "metadata": {},
          "execution_count": 60
        }
      ]
    },
    {
      "cell_type": "code",
      "source": [
        "y_stacked = torch.stack([y,y] , dim = 0)\n",
        "y_stacked"
      ],
      "metadata": {
        "colab": {
          "base_uri": "https://localhost:8080/"
        },
        "id": "vUW5ABdNNk9a",
        "outputId": "3cb2fe6c-849f-43c7-95d9-99553d334cc3"
      },
      "execution_count": 64,
      "outputs": [
        {
          "output_type": "execute_result",
          "data": {
            "text/plain": [
              "tensor([[-1.,  2.,  3., -1.,  5.,  6., -1.,  8.,  9.],\n",
              "        [-1.,  2.,  3., -1.,  5.,  6., -1.,  8.,  9.]])"
            ]
          },
          "metadata": {},
          "execution_count": 64
        }
      ]
    },
    {
      "cell_type": "code",
      "source": [
        "print(f\"y_reshaped : {y_reshaped}\")\n",
        "print(f\"shape : {y_reshaped.shape}\")\n",
        "\n",
        "y_squeezed = y_reshaped.squeeze()\n",
        "print(f\"y_squeezed : {y_squeezed}\")\n",
        "print(f\"shape : {y_squeezed.shape}\")"
      ],
      "metadata": {
        "colab": {
          "base_uri": "https://localhost:8080/"
        },
        "id": "9x_V4szuN8U_",
        "outputId": "0795a628-f95c-412c-f968-c4b5c9361495"
      },
      "execution_count": 66,
      "outputs": [
        {
          "output_type": "stream",
          "name": "stdout",
          "text": [
            "y_reshaped : tensor([[-1.,  2.,  3., -1.,  5.,  6., -1.,  8.,  9.]])\n",
            "shape : torch.Size([1, 9])\n",
            "y_squeezed : tensor([-1.,  2.,  3., -1.,  5.,  6., -1.,  8.,  9.])\n",
            "shape : torch.Size([9])\n"
          ]
        }
      ]
    },
    {
      "cell_type": "code",
      "source": [
        "y_unsqueezed = y_squeezed.unsqueeze(dim = 0)\n",
        "y_unsqueezed"
      ],
      "metadata": {
        "colab": {
          "base_uri": "https://localhost:8080/"
        },
        "id": "HnN0LiYgPe_B",
        "outputId": "701dde8e-9147-4e4b-e564-c3a341c81b10"
      },
      "execution_count": 67,
      "outputs": [
        {
          "output_type": "execute_result",
          "data": {
            "text/plain": [
              "tensor([[-1.,  2.,  3., -1.,  5.,  6., -1.,  8.,  9.]])"
            ]
          },
          "metadata": {},
          "execution_count": 67
        }
      ]
    },
    {
      "cell_type": "code",
      "source": [
        "y_unsqueezed1 = y_squeezed.unsqueeze(dim = 1)\n",
        "y_unsqueezed1"
      ],
      "metadata": {
        "colab": {
          "base_uri": "https://localhost:8080/"
        },
        "id": "apsqVGkRPwf_",
        "outputId": "f0293068-0944-4303-cd0f-3449468bc604"
      },
      "execution_count": 68,
      "outputs": [
        {
          "output_type": "execute_result",
          "data": {
            "text/plain": [
              "tensor([[-1.],\n",
              "        [ 2.],\n",
              "        [ 3.],\n",
              "        [-1.],\n",
              "        [ 5.],\n",
              "        [ 6.],\n",
              "        [-1.],\n",
              "        [ 8.],\n",
              "        [ 9.]])"
            ]
          },
          "metadata": {},
          "execution_count": 68
        }
      ]
    },
    {
      "cell_type": "code",
      "source": [
        "x = torch.randn(2, 3, 5)\n",
        "print(x.size())\n",
        "torch.permute(x, (2, 0, 1)).size()\n",
        "torch.Size([5, 2, 3])"
      ],
      "metadata": {
        "colab": {
          "base_uri": "https://localhost:8080/"
        },
        "id": "chK8xxtGP9BX",
        "outputId": "22fbf83b-5189-4920-bea6-df0381fe39de"
      },
      "execution_count": 71,
      "outputs": [
        {
          "output_type": "stream",
          "name": "stdout",
          "text": [
            "torch.Size([2, 3, 5])\n"
          ]
        },
        {
          "output_type": "execute_result",
          "data": {
            "text/plain": [
              "torch.Size([5, 2, 3])"
            ]
          },
          "metadata": {},
          "execution_count": 71
        }
      ]
    },
    {
      "cell_type": "markdown",
      "source": [
        "##Reproducibility(trying to tale random of random)\n",
        "\n",
        "To reduce the randomness in neural networks and pytorch comes the concept of a random seed\n",
        "\n",
        "Essentially what the random seed does is \"falvour\" the randomness\n"
      ],
      "metadata": {
        "id": "1TxB_kPTR6oT"
      }
    },
    {
      "cell_type": "code",
      "source": [
        "A = torch.rand(3,3)\n",
        "B = torch.rand(3,3)\n",
        "\n",
        "A == B"
      ],
      "metadata": {
        "colab": {
          "base_uri": "https://localhost:8080/"
        },
        "id": "rju3OOe9R5mo",
        "outputId": "ee9d3d32-3312-41b0-94f8-40e99fd35e6f"
      },
      "execution_count": 73,
      "outputs": [
        {
          "output_type": "execute_result",
          "data": {
            "text/plain": [
              "tensor([[False, False, False],\n",
              "        [False, False, False],\n",
              "        [False, False, False]])"
            ]
          },
          "metadata": {},
          "execution_count": 73
        }
      ]
    },
    {
      "cell_type": "code",
      "source": [
        "# So lets make it some reproducible random tensors\n",
        "\n",
        "Random_Seed = 40\n",
        "torch.manual_seed(Random_Seed)\n",
        "\n",
        "C = torch.rand(3,3)\n",
        "torch.manual_seed(Random_Seed)\n",
        "D = torch.rand(3,3)\n",
        "\n",
        "print(C)\n",
        "print(D)\n",
        "print(C == D)"
      ],
      "metadata": {
        "colab": {
          "base_uri": "https://localhost:8080/"
        },
        "id": "EC5oKyNgQoMW",
        "outputId": "14887e82-b9f5-4ed7-bf27-fed4f2b658fb"
      },
      "execution_count": 75,
      "outputs": [
        {
          "output_type": "stream",
          "name": "stdout",
          "text": [
            "tensor([[0.3679, 0.8661, 0.1737],\n",
            "        [0.7157, 0.8649, 0.4878],\n",
            "        [0.5501, 0.1318, 0.2897]])\n",
            "tensor([[0.3679, 0.8661, 0.1737],\n",
            "        [0.7157, 0.8649, 0.4878],\n",
            "        [0.5501, 0.1318, 0.2897]])\n",
            "tensor([[True, True, True],\n",
            "        [True, True, True],\n",
            "        [True, True, True]])\n"
          ]
        }
      ]
    },
    {
      "cell_type": "markdown",
      "source": [
        "#GPU\n",
        "\n",
        "The reasons why we want our tensors/models on gpu is because using a gpu results in faster computations"
      ],
      "metadata": {
        "id": "RjdfgZApVjwj"
      }
    },
    {
      "cell_type": "code",
      "source": [
        "torch.cuda.is_available()\n",
        "#Because now my run type is cpu"
      ],
      "metadata": {
        "colab": {
          "base_uri": "https://localhost:8080/"
        },
        "id": "NShHlDTzTL4F",
        "outputId": "63a81491-aa50-49b9-c897-0296c123341a"
      },
      "execution_count": 76,
      "outputs": [
        {
          "output_type": "execute_result",
          "data": {
            "text/plain": [
              "False"
            ]
          },
          "metadata": {},
          "execution_count": 76
        }
      ]
    },
    {
      "cell_type": "code",
      "source": [
        "torch.cuda.device_count()"
      ],
      "metadata": {
        "colab": {
          "base_uri": "https://localhost:8080/"
        },
        "id": "AAw1TTK7VMKt",
        "outputId": "52ddf7d7-fcf6-4ba7-aace-546fae54f614"
      },
      "execution_count": 78,
      "outputs": [
        {
          "output_type": "execute_result",
          "data": {
            "text/plain": [
              "0"
            ]
          },
          "metadata": {},
          "execution_count": 78
        }
      ]
    },
    {
      "cell_type": "code",
      "source": [
        "device = \"cuda\" if torch.cuda.is_available() else \"cpu\"\n",
        "device"
      ],
      "metadata": {
        "colab": {
          "base_uri": "https://localhost:8080/",
          "height": 36
        },
        "id": "jtGjEVrfVZw-",
        "outputId": "914bb0e3-6593-4d4c-805d-d0da68683570"
      },
      "execution_count": 80,
      "outputs": [
        {
          "output_type": "execute_result",
          "data": {
            "text/plain": [
              "'cpu'"
            ],
            "application/vnd.google.colaboratory.intrinsic+json": {
              "type": "string"
            }
          },
          "metadata": {},
          "execution_count": 80
        }
      ]
    },
    {
      "cell_type": "code",
      "source": [
        "tensor_on_device = tensor.to(device)\n",
        "tensor_on_device.device"
      ],
      "metadata": {
        "colab": {
          "base_uri": "https://localhost:8080/"
        },
        "id": "DP-UIOmmV8cl",
        "outputId": "b4795923-4e89-4dd8-e258-4eaa47fd8898"
      },
      "execution_count": 83,
      "outputs": [
        {
          "output_type": "execute_result",
          "data": {
            "text/plain": [
              "device(type='cpu')"
            ]
          },
          "metadata": {},
          "execution_count": 83
        }
      ]
    },
    {
      "cell_type": "code",
      "source": [],
      "metadata": {
        "id": "MjgDo5YsfB2G"
      },
      "execution_count": null,
      "outputs": []
    }
  ]
}